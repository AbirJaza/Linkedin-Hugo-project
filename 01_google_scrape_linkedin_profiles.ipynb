{
 "cells": [
  {
   "cell_type": "code",
   "execution_count": 1,
   "metadata": {},
   "outputs": [],
   "source": [
    "import pandas as pd\n",
    "import os\n",
    "from selenium import webdriver\n",
    "from selenium.webdriver.common.by import By\n",
    "from selenium.webdriver.support.ui import WebDriverWait\n",
    "from selenium.webdriver.support import expected_conditions as EC\n",
    "from selenium.webdriver.common.keys import Keys"
   ]
  },
  {
   "cell_type": "code",
   "execution_count": 2,
   "metadata": {},
   "outputs": [],
   "source": [
    "# specifies the path to the chromedriver.exe\n",
    "driver = webdriver.Chrome()"
   ]
  },
  {
   "cell_type": "markdown",
   "metadata": {},
   "source": [
    "## 01 Find linkedin profiles on Google"
   ]
  },
  {
   "cell_type": "code",
   "execution_count": 3,
   "metadata": {},
   "outputs": [],
   "source": [
    "# driver.get method() will navigate to a page given by the URL address\n",
    "# you need to click manually on \"J'accepte\"\n",
    "driver.get('https://www.google.com')"
   ]
  },
  {
   "cell_type": "code",
   "execution_count": 4,
   "metadata": {},
   "outputs": [],
   "source": [
    "# example Francesca ACAMPORA\n",
    "_profile_name = 'Simon ABELA'"
   ]
  },
  {
   "cell_type": "code",
   "execution_count": 5,
   "metadata": {},
   "outputs": [],
   "source": [
    "# locate search form by_name\n",
    "search_query = driver.find_element_by_name('q')\n",
    "search_query.send_keys('linkedin '+_profile_name+' parliament')\n",
    "\n",
    "# .send_keys() to simulate the return key \n",
    "search_query.send_keys(Keys.RETURN)"
   ]
  },
  {
   "cell_type": "code",
   "execution_count": 6,
   "metadata": {},
   "outputs": [
    {
     "data": {
      "text/plain": [
       "['https://mt.linkedin.com/in/simon-abela-68a92434',\n",
       " 'https://uk.linkedin.com/in/simon-abela-71899719',\n",
       " 'https://fr.linkedin.com/in/jean-simon-abella-bb7ab983',\n",
       " 'https://mt.linkedin.com/in/simon-abela-272101a']"
      ]
     },
     "execution_count": 6,
     "metadata": {},
     "output_type": "execute_result"
    }
   ],
   "source": [
    "# locate URL by_class_name\n",
    "linkedin_urls = driver.find_elements_by_xpath('//div[@class=\"yuRUbf\"]/a')\n",
    "linkedin_urls = [url.get_attribute(\"href\") for url in linkedin_urls]\n",
    "\n",
    "# keep only linkedin profile links\n",
    "linkedin_urls = [ x for x in linkedin_urls if \"linkedin\" and \"/in/\" in x ]\n",
    "linkedin_urls"
   ]
  },
  {
   "cell_type": "code",
   "execution_count": null,
   "metadata": {},
   "outputs": [],
   "source": [
    "# change all liks to https://www.linkedin.com/xxxxxxx/ \n",
    "# add regular expression"
   ]
  },
  {
   "cell_type": "code",
   "execution_count": 7,
   "metadata": {},
   "outputs": [],
   "source": [
    "# save list links in the input profiles_data file \n",
    "with open('./LinkedInScraper/profiles_data.txt', 'w') as f:\n",
    "    for item in linkedin_urls:\n",
    "        f.write(\"%s\\n\" % item)"
   ]
  },
  {
   "cell_type": "code",
   "execution_count": null,
   "metadata": {},
   "outputs": [],
   "source": []
  },
  {
   "cell_type": "markdown",
   "metadata": {},
   "source": [
    "## 02 Scrape linkedin profiles"
   ]
  },
  {
   "cell_type": "code",
   "execution_count": null,
   "metadata": {},
   "outputs": [],
   "source": [
    "username = \"private\"\n",
    "password = \"private\""
   ]
  },
  {
   "cell_type": "code",
   "execution_count": null,
   "metadata": {},
   "outputs": [],
   "source": [
    "#STEPS:\n",
    "#01- go to the ./LinkedInScraper/ folder, open cmd \n",
    "#02- check if ./profiles_data.txt contains the links\n",
    "#03- \"python configurator.py\"\n",
    "#04- \"python do_scraping.py\"\n",
    "#05- results are in ./LinkedInScraper/results_profiles_xxxxx.xlsx"
   ]
  },
  {
   "cell_type": "code",
   "execution_count": null,
   "metadata": {},
   "outputs": [],
   "source": []
  },
  {
   "cell_type": "code",
   "execution_count": null,
   "metadata": {},
   "outputs": [],
   "source": []
  }
 ],
 "metadata": {
  "kernelspec": {
   "display_name": "Python 3",
   "language": "python",
   "name": "python3"
  },
  "language_info": {
   "codemirror_mode": {
    "name": "ipython",
    "version": 3
   },
   "file_extension": ".py",
   "mimetype": "text/x-python",
   "name": "python",
   "nbconvert_exporter": "python",
   "pygments_lexer": "ipython3",
   "version": "3.6.5"
  }
 },
 "nbformat": 4,
 "nbformat_minor": 2
}
